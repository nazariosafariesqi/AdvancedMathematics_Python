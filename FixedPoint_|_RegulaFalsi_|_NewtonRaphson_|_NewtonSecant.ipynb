{
  "nbformat": 4,
  "nbformat_minor": 0,
  "metadata": {
    "colab": {
      "provenance": [],
      "authorship_tag": "ABX9TyNRWI7evD8otDDszRVPApa3",
      "include_colab_link": true
    },
    "kernelspec": {
      "name": "python3",
      "display_name": "Python 3"
    },
    "language_info": {
      "name": "python"
    }
  },
  "cells": [
    {
      "cell_type": "markdown",
      "metadata": {
        "id": "view-in-github",
        "colab_type": "text"
      },
      "source": [
        "<a href=\"https://colab.research.google.com/github/nazariosafariesqi/AdvancedMathematics_Python/blob/main/FixedPoint_%7C_RegulaFalsi_%7C_NewtonRaphson_%7C_NewtonSecant.ipynb\" target=\"_parent\"><img src=\"https://colab.research.google.com/assets/colab-badge.svg\" alt=\"Open In Colab\"/></a>"
      ]
    },
    {
      "cell_type": "code",
      "execution_count": 4,
      "metadata": {
        "colab": {
          "base_uri": "https://localhost:8080/"
        },
        "id": "9PwIrgrsP6wi",
        "outputId": "c9b7794e-cd57-4b53-ada3-1c08fb430d5a"
      },
      "outputs": [
        {
          "output_type": "stream",
          "name": "stdout",
          "text": [
            "Masukkan nilai x0: 3\n",
            "Masukkan tolerance: 10\n",
            "Masukkan maksimum iterasi: 100\n",
            "Akar persamaan: 0.018\n"
          ]
        }
      ],
      "source": [
        "def fixed_point_iteration(g, x0, tol, max_iter):\n",
        "    x = x0\n",
        "    for i in range(max_iter):\n",
        "        x_new = g(x)\n",
        "        if abs(x_new - x) < tol:\n",
        "            return x_new\n",
        "        x = x_new\n",
        "    return None\n",
        "\n",
        "# Fungsi g(x) yang mengubah persamaan ke bentuk titik tetap\n",
        "def g(x):\n",
        "    return (4*x**3 - 15*x**2 + 17*x - 6) / 1000  # normalisasi dengan membagi dengan 1000\n",
        "\n",
        "# Meminta input dari pengguna\n",
        "x0 = float(input(\"Masukkan nilai x0: \"))\n",
        "tolerance = float(input(\"Masukkan tolerance: \"))\n",
        "max_iterations = int(input(\"Masukkan maksimum iterasi: \"))\n",
        "\n",
        "result = fixed_point_iteration(g, x0, tolerance, max_iterations)\n",
        "\n",
        "if result is not None:\n",
        "    print(\"Akar persamaan:\", result)\n",
        "else:\n",
        "    print(\"Metode Fixed Point tidak konvergen.\")\n"
      ]
    },
    {
      "cell_type": "code",
      "source": [
        "def regula_falsi(f, a, b, tol, max_iter):\n",
        "    for i in range(max_iter):\n",
        "        fa = f(a)\n",
        "        fb = f(b)\n",
        "        c = (a * fb - b * fa) / (fb - fa)\n",
        "        fc = f(c)\n",
        "\n",
        "        if abs(fc) < tol:\n",
        "            return c\n",
        "\n",
        "        if fa * fc < 0:\n",
        "            b = c\n",
        "        else:\n",
        "            a = c\n",
        "\n",
        "    return None\n",
        "\n",
        "# Fungsi persamaan f(x)\n",
        "def f(x):\n",
        "    return 4*x**3 - 15*x**2 + 17*x - 6\n",
        "\n",
        "# Meminta input dari pengguna\n",
        "a = float(input(\"Masukkan nilai a: \"))\n",
        "b = float(input(\"Masukkan nilai b: \"))\n",
        "tolerance = float(input(\"Masukkan tolerance: \"))\n",
        "max_iterations = int(input(\"Masukkan maksimum iterasi: \"))\n",
        "\n",
        "result = regula_falsi(f, a, b, tolerance, max_iterations)\n",
        "\n",
        "if result is not None:\n",
        "    print(\"Akar persamaan:\", result)\n",
        "else:\n",
        "    print(\"Metode Regula Falsi tidak konvergen.\")\n"
      ],
      "metadata": {
        "colab": {
          "base_uri": "https://localhost:8080/"
        },
        "id": "X332NpMgRXQQ",
        "outputId": "c2e18c02-b1f8-4b05-ace6-22ccc5a65e3f"
      },
      "execution_count": 5,
      "outputs": [
        {
          "output_type": "stream",
          "name": "stdout",
          "text": [
            "Masukkan nilai a: 2\n",
            "Masukkan nilai b: 3\n",
            "Masukkan tolerance: 10\n",
            "Masukkan maksimum iterasi: 100\n",
            "Akar persamaan: 2.0\n"
          ]
        }
      ]
    },
    {
      "cell_type": "code",
      "source": [
        "def f(x):\n",
        "    return 4*x**3 - 15*x**2 + 17*x - 6\n",
        "\n",
        "def df(x):\n",
        "    return 12*x**2 - 30*x + 17\n",
        "\n",
        "def newton_raphson(initial_guess, tol, max_iter):\n",
        "    x = initial_guess\n",
        "    for i in range(max_iter):\n",
        "        x_new = x - f(x) / df(x)\n",
        "        if abs(x_new - x) < tol:\n",
        "            return x_new\n",
        "        x = x_new\n",
        "    return None\n",
        "\n",
        "initial_guess = 2.0\n",
        "tolerance = 1e-6\n",
        "max_iterations = 100\n",
        "\n",
        "result = newton_raphson(initial_guess, tolerance, max_iterations)\n",
        "\n",
        "if result is not None:\n",
        "    print(\"Akar persamaan (Newton-Raphson):\", result)\n",
        "else:\n",
        "    print(\"Metode Newton-Raphson tidak konvergen.\")\n"
      ],
      "metadata": {
        "colab": {
          "base_uri": "https://localhost:8080/"
        },
        "id": "kPuAJBoDTLzu",
        "outputId": "ebdd2443-13c5-4d44-9e08-7779101da157"
      },
      "execution_count": 6,
      "outputs": [
        {
          "output_type": "stream",
          "name": "stdout",
          "text": [
            "Akar persamaan (Newton-Raphson): 2.0\n"
          ]
        }
      ]
    },
    {
      "cell_type": "code",
      "source": [
        "def f(x):\n",
        "    return 4*x**3 - 15*x**2 + 17*x - 6\n",
        "\n",
        "def secant(x0, x1, tol, max_iter):\n",
        "    for i in range(max_iter):\n",
        "        f0 = f(x0)\n",
        "        f1 = f(x1)\n",
        "        x2 = x1 - (f1 * (x1 - x0)) / (f1 - f0)\n",
        "        if abs(x2 - x1) < tol:\n",
        "            return x2\n",
        "        x0, x1 = x1, x2\n",
        "    return None\n",
        "\n",
        "x0 = 2.0\n",
        "x1 = 2.5\n",
        "tolerance = 1e-6\n",
        "max_iterations = 100\n",
        "\n",
        "result = secant(x0, x1, tolerance, max_iterations)\n",
        "\n",
        "if result is not None:\n",
        "    print(\"Akar persamaan (Secant):\", result)\n",
        "else:\n",
        "    print(\"Metode Secant tidak konvergen.\")\n"
      ],
      "metadata": {
        "colab": {
          "base_uri": "https://localhost:8080/"
        },
        "id": "qNVrIi_QTcod",
        "outputId": "a27c1632-087b-40c0-a66c-37719af43eb4"
      },
      "execution_count": 7,
      "outputs": [
        {
          "output_type": "stream",
          "name": "stdout",
          "text": [
            "Akar persamaan (Secant): 2.0\n"
          ]
        }
      ]
    }
  ]
}