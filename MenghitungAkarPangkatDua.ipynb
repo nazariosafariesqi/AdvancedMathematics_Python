{
  "nbformat": 4,
  "nbformat_minor": 0,
  "metadata": {
    "colab": {
      "provenance": [],
      "authorship_tag": "ABX9TyO6Jt4CwXqr/FC5XkTQfYhj",
      "include_colab_link": true
    },
    "kernelspec": {
      "name": "python3",
      "display_name": "Python 3"
    },
    "language_info": {
      "name": "python"
    }
  },
  "cells": [
    {
      "cell_type": "markdown",
      "metadata": {
        "id": "view-in-github",
        "colab_type": "text"
      },
      "source": [
        "<a href=\"https://colab.research.google.com/github/nazariosafariesqi/AdvancedMathematics_Python/blob/main/MenghitungAkarPangkatDua.ipynb\" target=\"_parent\"><img src=\"https://colab.research.google.com/assets/colab-badge.svg\" alt=\"Open In Colab\"/></a>"
      ]
    },
    {
      "cell_type": "code",
      "execution_count": 1,
      "metadata": {
        "colab": {
          "base_uri": "https://localhost:8080/"
        },
        "id": "gVioLxVi_f8S",
        "outputId": "fa8bd2fd-a818-4031-e9c8-2736f2a0d92c"
      },
      "outputs": [
        {
          "output_type": "stream",
          "name": "stdout",
          "text": [
            "Masukkan bilangan: 63\n",
            "Akar kuadrat dari 63.0 adalah 7.937253933193772\n"
          ]
        }
      ],
      "source": [
        "# Masukkan Input\n",
        "angka = float(input(\"Masukkan bilangan: \"))\n",
        "\n",
        "# Menghitung akar kuadrat\n",
        "akar_kuadrat = angka ** 0.5\n",
        "\n",
        "# Menampilkan hasil\n",
        "print(f\"Akar kuadrat dari {angka} adalah {akar_kuadrat}\")"
      ]
    }
  ]
}