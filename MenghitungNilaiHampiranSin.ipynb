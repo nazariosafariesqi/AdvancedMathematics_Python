{
  "nbformat": 4,
  "nbformat_minor": 0,
  "metadata": {
    "colab": {
      "provenance": [],
      "authorship_tag": "ABX9TyMeepeiB3EzE4rKz//xhCrn",
      "include_colab_link": true
    },
    "kernelspec": {
      "name": "python3",
      "display_name": "Python 3"
    },
    "language_info": {
      "name": "python"
    }
  },
  "cells": [
    {
      "cell_type": "markdown",
      "metadata": {
        "id": "view-in-github",
        "colab_type": "text"
      },
      "source": [
        "<a href=\"https://colab.research.google.com/github/nazariosafariesqi/AdvancedMathematics_Python/blob/main/MenghitungNilaiHampiranSin.ipynb\" target=\"_parent\"><img src=\"https://colab.research.google.com/assets/colab-badge.svg\" alt=\"Open In Colab\"/></a>"
      ]
    },
    {
      "cell_type": "code",
      "source": [
        "import math\n",
        "\n",
        "def hitung_sinx(x, n):\n",
        "    hampiran_sinx = 0\n",
        "    for i in range(n + 1):\n",
        "        eksponen = 2 * i + 1\n",
        "        hampiran_sinx += ((-1) ** i) * (x ** eksponen) / math.factorial(eksponen)\n",
        "    return hampiran_sinx\n",
        "\n",
        "x = float(input(\"Masukkan nilai x: \"))\n",
        "n = 10  # Orde maksimum\n",
        "\n",
        "sinx_hampiran = hitung_sinx(x, n)\n",
        "sinx_asli = math.sin(x)\n",
        "\n",
        "print(f\"sin({x}) yang dihitung (orde {n}) adalah: {sinx_hampiran}\")\n",
        "print(f\"Nilai sebenarnya sin({x}) adalah: {sinx_asli}\")\n"
      ],
      "metadata": {
        "colab": {
          "base_uri": "https://localhost:8080/"
        },
        "id": "miJmswr2B3dy",
        "outputId": "30ec1c52-128b-4099-8fb3-e36f0fba3a31"
      },
      "execution_count": 2,
      "outputs": [
        {
          "output_type": "stream",
          "name": "stdout",
          "text": [
            "Masukkan nilai x: 15\n",
            "sin(15.0) yang dihitung (orde 10) adalah: 31192.037801241444\n",
            "Nilai sebenarnya sin(15.0) adalah: 0.6502878401571168\n"
          ]
        }
      ]
    },
    {
      "cell_type": "code",
      "source": [
        "import math\n",
        "\n",
        "def hitung_sinx(x, n):\n",
        "    hampiran_sinx = 0\n",
        "    for i in range(n + 1):\n",
        "        eksponen = 2 * i + 1\n",
        "        hampiran_sinx += ((-1) ** i) * (x ** eksponen) / math.factorial(eksponen)\n",
        "    return hampiran_sinx\n",
        "\n",
        "x = float(input(\"Masukkan nilai x: \"))\n",
        "n = 10  # Orde maksimum\n",
        "\n",
        "sinx_hampiran = hitung_sinx(x, n)\n",
        "sinx_asli = math.sin(x)\n",
        "\n",
        "galat_relatif = abs(sinx_asli - sinx_hampiran) / abs(sinx_asli)\n",
        "\n",
        "print(f\"sin({x}) yang dihitung (orde {n}) adalah: {sinx_hampiran}\")\n",
        "print(f\"Nilai sebenarnya sin({x}) adalah: {sinx_asli}\")\n",
        "print(f\"Galat relatif: {galat_relatif}\")\n"
      ],
      "metadata": {
        "colab": {
          "base_uri": "https://localhost:8080/"
        },
        "id": "kPqurARfClrE",
        "outputId": "259a2728-6e9e-44d5-830f-31680119f43f"
      },
      "execution_count": 3,
      "outputs": [
        {
          "output_type": "stream",
          "name": "stdout",
          "text": [
            "Masukkan nilai x: 15\n",
            "sin(15.0) yang dihitung (orde 10) adalah: 31192.037801241444\n",
            "Nilai sebenarnya sin(15.0) adalah: 0.6502878401571168\n",
            "Galat relatif: 47965.5094055966\n"
          ]
        }
      ]
    },
    {
      "cell_type": "code",
      "source": [
        "import math\n",
        "\n",
        "def hitung_sinx(x, n):\n",
        "    hampiran_sinx = 0\n",
        "    for i in range(n + 1):\n",
        "        eksponen = 2 * i + 1\n",
        "        hampiran_sinx += ((-1) ** i) * (x ** eksponen) / math.factorial(eksponen)\n",
        "    return hampiran_sinx\n",
        "\n",
        "x = float(input(\"Masukkan nilai x: \"))\n",
        "n = int(input(\"Masukkan nilai orde (n):\"))\n",
        "\n",
        "sinx_hampiran = hitung_sinx(x, n)\n",
        "sinx_asli = math.sin(x)\n",
        "\n",
        "galat_relatif = abs(sinx_asli - sinx_hampiran) / abs(sinx_asli)\n",
        "\n",
        "print(f\"sin({x}) yang dihitung (orde {n}) adalah: {sinx_hampiran}\")\n",
        "print(f\"Nilai sebenarnya sin({x}) adalah: {sinx_asli}\")\n",
        "print(f\"Galat relatif: {galat_relatif}\")\n"
      ],
      "metadata": {
        "colab": {
          "base_uri": "https://localhost:8080/"
        },
        "id": "0KfFHAvzDCwG",
        "outputId": "e5dea854-7eb6-408a-b616-c19d2b32229b"
      },
      "execution_count": 9,
      "outputs": [
        {
          "output_type": "stream",
          "name": "stdout",
          "text": [
            "Masukkan nilai x: 15\n",
            "Masukkan nilai orde (n):10\n",
            "sin(15.0) yang dihitung (orde 10) adalah: 31192.037801241444\n",
            "Nilai sebenarnya sin(15.0) adalah: 0.6502878401571168\n",
            "Galat relatif: 47965.5094055966\n"
          ]
        }
      ]
    }
  ]
}