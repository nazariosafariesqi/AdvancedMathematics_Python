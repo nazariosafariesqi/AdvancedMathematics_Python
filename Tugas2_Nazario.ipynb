{
  "cells": [
    {
      "cell_type": "markdown",
      "metadata": {
        "id": "view-in-github",
        "colab_type": "text"
      },
      "source": [
        "<a href=\"https://colab.research.google.com/github/nazariosafariesqi/AdvancedMathematics_Python/blob/main/Tugas2_Nazario.ipynb\" target=\"_parent\"><img src=\"https://colab.research.google.com/assets/colab-badge.svg\" alt=\"Open In Colab\"/></a>"
      ]
    },
    {
      "cell_type": "code",
      "source": [
        "import sympy as sp\n",
        "\n",
        "# Definisikan variabel dan fungsi\n",
        "x = sp.symbols('x')\n",
        "f_x = 6\n",
        "\n",
        "# Hitung turunan\n",
        "derivative = sp.diff(f_x, x)\n",
        "\n",
        "# Cetak hasil\n",
        "print(\"Turunan dari f(x) = 6 terhadap x adalah:\", derivative)"
      ],
      "metadata": {
        "id": "zkfXvtzYW7-g",
        "outputId": "df3b7d34-8eef-4c08-a9c7-29b2cf9f045c",
        "colab": {
          "base_uri": "https://localhost:8080/"
        }
      },
      "execution_count": 1,
      "outputs": [
        {
          "output_type": "stream",
          "name": "stdout",
          "text": [
            "Turunan dari f(x) = 6 terhadap x adalah: 0\n"
          ]
        }
      ]
    },
    {
      "cell_type": "code",
      "source": [
        "import sympy as sp\n",
        "\n",
        "# Definisikan variabel dan fungsi\n",
        "t = sp.symbols('t')\n",
        "V_t = 3 - 14*t\n",
        "\n",
        "# Hitung turunan\n",
        "derivative = sp.diff(V_t, t)\n",
        "\n",
        "# Cetak hasil\n",
        "print(\"Turunan dari V(t) = 3 - 14t terhadap t adalah:\", derivative)"
      ],
      "metadata": {
        "id": "k9ySr5CAXgJz",
        "outputId": "47c30eba-3045-49da-c803-6287bdaa023b",
        "colab": {
          "base_uri": "https://localhost:8080/"
        }
      },
      "execution_count": 2,
      "outputs": [
        {
          "output_type": "stream",
          "name": "stdout",
          "text": [
            "Turunan dari V(t) = 3 - 14t terhadap t adalah: -14\n"
          ]
        }
      ]
    },
    {
      "cell_type": "code",
      "source": [
        "import sympy as sp\n",
        "\n",
        "# Definisikan variabel dan fungsi\n",
        "t = sp.symbols('t')\n",
        "Q_t = 10 + 5*t - t**2\n",
        "\n",
        "# Hitung turunan\n",
        "derivative = sp.diff(Q_t, t)\n",
        "\n",
        "# Cetak hasil\n",
        "print(\"Turunan dari Q(t) = 10 + 5t - t^2 terhadap t adalah:\", derivative)\n"
      ],
      "metadata": {
        "id": "quYdbIhzZ68_",
        "outputId": "b13c0fc5-4713-4b70-cf06-ccca901966b4",
        "colab": {
          "base_uri": "https://localhost:8080/"
        }
      },
      "execution_count": 5,
      "outputs": [
        {
          "output_type": "stream",
          "name": "stdout",
          "text": [
            "Turunan dari Q(t) = 10 + 5t - t^2 terhadap t adalah: 5 - 2*t\n"
          ]
        }
      ]
    },
    {
      "cell_type": "code",
      "source": [
        "import sympy as sp\n",
        "\n",
        "# Definisikan variabel dan fungsi\n",
        "z = sp.symbols('z')\n",
        "R_z = 5/z\n",
        "\n",
        "# Hitung turunan\n",
        "derivative = sp.diff(R_z, z)\n",
        "\n",
        "# Cetak hasil\n",
        "print(\"Turunan dari R(z) = 5/z terhadap z adalah:\", derivative)\n"
      ],
      "metadata": {
        "id": "J3Y9kB7nZJfk",
        "outputId": "148a81a3-eb9f-47eb-e7ce-5008daf15759",
        "colab": {
          "base_uri": "https://localhost:8080/"
        }
      },
      "execution_count": 3,
      "outputs": [
        {
          "output_type": "stream",
          "name": "stdout",
          "text": [
            "Turunan dari R(z) = 5/z terhadap z adalah: -5/z**2\n"
          ]
        }
      ]
    },
    {
      "cell_type": "code",
      "source": [
        "import sympy as sp\n",
        "\n",
        "# Definisikan variabel dan fungsi\n",
        "t = sp.symbols('t')\n",
        "Z_t = sp.sqrt(3*t - 4)\n",
        "\n",
        "# Hitung turunan\n",
        "derivative = sp.diff(Z_t, t)\n",
        "\n",
        "# Cetak hasil\n",
        "print(\"Turunan dari Z(t) = √(3t - 4) terhadap t adalah:\", derivative)\n"
      ],
      "metadata": {
        "id": "yY8QXk7kbaF3",
        "outputId": "5e0f4933-f744-426d-8e37-f31bf596f457",
        "colab": {
          "base_uri": "https://localhost:8080/"
        }
      },
      "execution_count": 6,
      "outputs": [
        {
          "output_type": "stream",
          "name": "stdout",
          "text": [
            "Turunan dari Z(t) = √(3t - 4) terhadap t adalah: 3/(2*sqrt(3*t - 4))\n"
          ]
        }
      ]
    }
  ],
  "metadata": {
    "colab": {
      "name": "Welcome To Colaboratory",
      "toc_visible": true,
      "provenance": [],
      "include_colab_link": true
    },
    "kernelspec": {
      "display_name": "Python 3",
      "name": "python3"
    }
  },
  "nbformat": 4,
  "nbformat_minor": 0
}